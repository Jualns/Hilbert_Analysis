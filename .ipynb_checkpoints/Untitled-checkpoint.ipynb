{
 "cells": [
  {
   "cell_type": "code",
   "execution_count": 12,
   "id": "2b7934e3-c702-424f-a5bc-00c63f21d3ba",
   "metadata": {},
   "outputs": [
    {
     "data": {
      "text/plain": [
       "Resolve_LU (generic function with 1 method)"
      ]
     },
     "execution_count": 12,
     "metadata": {},
     "output_type": "execute_result"
    }
   ],
   "source": [
    "using LinearAlgebra: I, norm, dot, isposdef\n",
    "\n",
    "function LU(A)\n",
    "    n = size(A, 1)\n",
    "    L = Matrix{Rational{BigInt}}(I, n, n)\n",
    "    U = copy(A)\n",
    "\n",
    "    for k in 1:n-1\n",
    "        for i in k+1:n\n",
    "            L[i, k] = U[i, k] // U[k, k]\n",
    "            for j in k:n\n",
    "                U[i, j] -= L[i, k] * U[k, j]\n",
    "            end\n",
    "        end\n",
    "    end\n",
    "\n",
    "    return L, U\n",
    "end\n",
    "\n",
    "function Cholensky(A)\n",
    "    n = size(A, 1)\n",
    "    L = zeros(BigFloat, n, n)\n",
    "\n",
    "    for j in 1:n\n",
    "        for i in 1:j\n",
    "            if i == j\n",
    "                L[i, j] = sqrt(A[i, i] - sum(L[i, k]^2 for k in 1:i-1))\n",
    "            else\n",
    "                L[i, j] = (A[i, j] - sum(L[i, k] * L[j, k] for k in 1:i-1)) / L[i, i]\n",
    "            end\n",
    "        end\n",
    "    end\n",
    "\n",
    "    return L\n",
    "end\n",
    "\n",
    "function SOR(A, b, omega, tol, max_iter)\n",
    "    n = length(b)\n",
    "    x = zeros(n)\n",
    "    x_new = copy(x)\n",
    "    iter = 0\n",
    "\n",
    "    while iter < max_iter\n",
    "        for i in 1:n\n",
    "            sigma = 0.0\n",
    "            for j in 1:n\n",
    "                if j != i\n",
    "                    sigma += A[i, j] * x_new[j]\n",
    "                end\n",
    "            end\n",
    "            x_new[i] = (1 - omega) * x[i] + (omega / A[i, i]) * (b[i] - sigma)\n",
    "        end\n",
    "\n",
    "        if norm(x_new - x) < tol\n",
    "            return x_new\n",
    "        end\n",
    "\n",
    "        copyto!(x, x_new)\n",
    "        iter += 1\n",
    "    end\n",
    "\n",
    "    return x\n",
    "end\n",
    "\n",
    "function JOR(A, b, omega, tol, max_iter)\n",
    "    n = length(b)\n",
    "    x = zeros(n)\n",
    "    x_new = copy(x)\n",
    "    iter = 0\n",
    "\n",
    "    while iter < max_iter\n",
    "        for i in 1:n\n",
    "            sigma = 0.0\n",
    "            for j in 1:n\n",
    "                if j != i\n",
    "                    sigma += A[i, j] * x[j]\n",
    "                end\n",
    "            end\n",
    "            x_new[i] = (1 - omega) * x[i] + (omega / A[i, i]) * (b[i] - sigma)\n",
    "        end\n",
    "\n",
    "        if norm(x_new - x) < tol\n",
    "            return x_new\n",
    "        end\n",
    "\n",
    "        copyto!(x, x_new)\n",
    "        iter += 1\n",
    "    end\n",
    "\n",
    "    return x\n",
    "end\n",
    "\n",
    "function maxima_descida(A, b, x0, tol, max_iter)\n",
    "    n = length(b)\n",
    "    x = copy(x0)\n",
    "    r = b - A * x\n",
    "    for iter in 1:max_iter\n",
    "        Ap = A * r\n",
    "        alpha = dot(r, r) / dot(r, Ap)\n",
    "        x += alpha * r\n",
    "        r = b - A * x\n",
    "        if norm(r) < tol\n",
    "            return x\n",
    "        end\n",
    "    end\n",
    "    return x\n",
    "end\n",
    "\n",
    "\n",
    "function grad_conj(A, b, x0, tol, max_iter)\n",
    "    n = length(b)\n",
    "    x = copy(x0)\n",
    "    r = b - A * x\n",
    "    p = copy(r)\n",
    "    rsold = dot(r, r)\n",
    "\n",
    "    for iter in 1:max_iter\n",
    "        Ap = A * p\n",
    "        alpha = rsold / dot(p, Ap)\n",
    "        x += alpha * p\n",
    "        r -= alpha * Ap\n",
    "        rsnew = dot(r, r)\n",
    "\n",
    "        if sqrt(rsnew) < tol\n",
    "            return x\n",
    "        end\n",
    "\n",
    "        p = r + (rsnew / rsold) * p\n",
    "        rsold = rsnew\n",
    "    end\n",
    "\n",
    "    return x\n",
    "end\n",
    "\n",
    "# Função para resolver um sistema Ax = b com a decomposição de Cholesky\n",
    "function Resolve_Cholesky(A, b)\n",
    "    if true #isposdef(A)\n",
    "        L = Cholensky(A).L  # Decomposição de Cholesky\n",
    "        y = L \\ b  # Resolvendo Ly = b\n",
    "        x = L' \\ y  # Resolvendo L'x = y (usando a transposta de L)\n",
    "        return x\n",
    "    else\n",
    "        throw(ArgumentError(\"A matriz não é simétrica definida positiva.\"))\n",
    "    end\n",
    "end\n",
    "\n",
    "# Função para resolver um sistema Ax = b com a decomposição LU\n",
    "function Resolve_LU(A, b)\n",
    "    n = size(A, 1)\n",
    "    L, U = LU(A)\n",
    "    y = zeros(BigFloat, n)\n",
    "    x = zeros(BigFloat, n)\n",
    "\n",
    "    # Resolvendo Ly = b\n",
    "    for i in 1:n\n",
    "        y[i] = b[i]\n",
    "        for j in 1:i-1\n",
    "            y[i] -= L[i, j] * y[j]\n",
    "        end\n",
    "        y[i] /= L[i, i]\n",
    "    end\n",
    "\n",
    "    # Resolvendo Ux = y\n",
    "    for i in n:-1:1\n",
    "        x[i] = y[i]\n",
    "        for j in i+1:n\n",
    "            x[i] -= U[i, j] * x[j]\n",
    "        end\n",
    "        x[i] /= U[i, i]\n",
    "    end\n",
    "\n",
    "    return x\n",
    "end"
   ]
  },
  {
   "cell_type": "code",
   "execution_count": 2,
   "id": "67b53fd3-4f9b-41e6-a8fd-6e84b4324201",
   "metadata": {},
   "outputs": [
    {
     "data": {
      "text/plain": [
       "er (generic function with 1 method)"
      ]
     },
     "execution_count": 2,
     "metadata": {},
     "output_type": "execute_result"
    }
   ],
   "source": [
    "using SpecialMatrices\n",
    "#using LinearAlgebra\n",
    "\n",
    "function special_hilbert(n)\n",
    "    return Hilbert(n)\n",
    "end\n",
    "\n",
    "function H(n)\n",
    "    A = ones(Rational{BigInt}, n, n)\n",
    "    for i = 1:n\n",
    "        for j = 1:n\n",
    "            A[i, j] = 1 // (i + j - 1)\n",
    "        end\n",
    "    end\n",
    "    return A\n",
    "end\n",
    "\n",
    "function B(n)\n",
    "    return ones(BigInt, n)\n",
    "end\n",
    "\n",
    "function inverse_H(n)\n",
    "    A = ones(Rational{BigInt}, n, n)\n",
    "    for j = 1:n\n",
    "        for i = 1:n\n",
    "            A[i, j] = (i + j - 1)\n",
    "        end\n",
    "    end\n",
    "    return A * 1 // n\n",
    "end\n",
    "\n",
    "function condicionamento(Matrix, p=2)\n",
    "    inversa_matrix = inv(Matrix)\n",
    "    norma = norm(Matrix, p)\n",
    "    norma_inversa = norm(inversa_matrix, p)\n",
    "\n",
    "    return abs(norma) * abs(norma_inversa)\n",
    "end\n",
    "\n",
    "function er(x_pred, x_ot)\n",
    "    return norm(x_ot - x_pred)\n",
    "end"
   ]
  },
  {
   "cell_type": "code",
   "execution_count": 18,
   "id": "51205612-a94f-40a1-b5fa-e5865072be6e",
   "metadata": {},
   "outputs": [
    {
     "data": {
      "text/plain": [
       "100-element Vector{Rational{BigInt}}:\n",
       "                                                                      -100//1\n",
       "                                                                    999900//1\n",
       "                                                               -2498750100//1\n",
       "                                                             2773890249900//1\n",
       "                                                         -1730907515937600//1\n",
       "                                                        690632098859102400//1\n",
       "                                                    -191151617584224897600//1\n",
       "                                                   38819382583277999102400//1\n",
       "                                                -6026709146053909360647600//1\n",
       "                                               738011457033441073435352400//1\n",
       "                                            -73063134246310666270099887600//1\n",
       "                                           5965212423300025389110056112400//1\n",
       "                                        -408285650305868404410199396137600//1\n",
       "                                                                          ⋮\n",
       " -196296322276237864602242671576870170698386345907601093455542647975684000//1\n",
       "   51521279385468819657626879713207055281144453117270884142667992064316000//1\n",
       "  -12085238374369229302406305117912766053601785299112923440872738879284000//1\n",
       "    2508697592747337902528250029910885744009355021033101726223914760716000//1\n",
       "    -455264591500462076829323256845831817438370665442680086422487366784000//1\n",
       "      71113708303517662827658194010720174050091197712228095358628793216000//1\n",
       "      -9368080179413146166975343801321670732719121111026879017365766784000//1\n",
       "       1012064063703913297817280909284058611013977072936421832901010816000//1\n",
       "        -86095727641478735404595077352289708228619577385216440646092934000//1\n",
       "          5407862157095752218526484293251484489649715191270370541167066000//1\n",
       "          -222981405061424185603549331541814645762316453117770380497934000//1\n",
       "             4527425732805164058270208853874208193725229483770666842066000//1"
      ]
     },
     "execution_count": 18,
     "metadata": {},
     "output_type": "execute_result"
    }
   ],
   "source": [
    "n = 100\n",
    "A = H(n)\n",
    "b = B(n)\n",
    "\n",
    "x0 = zeros(BigFloat, n)\n",
    "tol = 1e-5\n",
    "max_iter = 1000\n",
    "ω = 0.5\n",
    "\n",
    "x_sol = A \\ b"
   ]
  },
  {
   "cell_type": "code",
   "execution_count": 19,
   "id": "630a5a03-edfc-4298-9274-fdb48e2d2227",
   "metadata": {},
   "outputs": [
    {
     "name": "stdout",
     "output_type": "stream",
     "text": [
      "Erro SOR:1.562520286029014792690447000722284604469408947123348784726771533662259151648725e+76\n"
     ]
    }
   ],
   "source": [
    "x_sor = SOR(A, b, ω, tol, max_iter)\n",
    "println(\"Erro SOR:\", er(x_sor, x_sol))"
   ]
  },
  {
   "cell_type": "code",
   "execution_count": 21,
   "id": "3221d14b-3f85-4b22-937d-c88da0534ae4",
   "metadata": {},
   "outputs": [
    {
     "name": "stdout",
     "output_type": "stream",
     "text": [
      "Erro JOR:NaN\n"
     ]
    }
   ],
   "source": [
    "x_jor = JOR(A, b, ω, tol, max_iter)\n",
    "println(\"Erro JOR:\", er(x_jor, x_sol))"
   ]
  },
  {
   "cell_type": "code",
   "execution_count": 22,
   "id": "4cbc390d-d7b2-4094-9fca-ea128d8b98a8",
   "metadata": {},
   "outputs": [
    {
     "name": "stdout",
     "output_type": "stream",
     "text": [
      "Erro Max Des:1.5625202860290147926904470007222846044694089471233487847267715336622591516487e+76\n"
     ]
    }
   ],
   "source": [
    "x_md = maxima_descida(A, b, x0, tol, max_iter)\n",
    "println(\"Erro Max Des:\", er(x_md, x_sol))"
   ]
  },
  {
   "cell_type": "code",
   "execution_count": 23,
   "id": "24f342cd-5b0c-4fb0-9e50-f92c77db6aa0",
   "metadata": {},
   "outputs": [
    {
     "name": "stdout",
     "output_type": "stream",
     "text": [
      "Erro Grad:1.562520286029014792690447000722284604469408947123348784726771533662259151648725e+76\n"
     ]
    }
   ],
   "source": [
    "x_gc = grad_conj(A, b, x0, tol, max_iter)\n",
    "println(\"Erro Grad:\", er(x_gc, x_sol))"
   ]
  },
  {
   "cell_type": "code",
   "execution_count": 10,
   "id": "fc98219e-6610-4d8a-980f-63bf7c17cd4e",
   "metadata": {},
   "outputs": [
    {
     "ename": "LoadError",
     "evalue": "MethodError: reducing over an empty collection is not allowed; consider supplying `init` to the reducer",
     "output_type": "error",
     "traceback": [
      "MethodError: reducing over an empty collection is not allowed; consider supplying `init` to the reducer",
      "",
      "Stacktrace:",
      "  [1] reduce_empty(op::Base.MappingRF{var\"#1#3\"{Matrix{BigFloat}, Int64}, Base.BottomRF{typeof(Base.add_sum)}}, #unused#::Type{Int64})",
      "    @ Base ./reduce.jl:356",
      "  [2] reduce_empty_iter",
      "    @ ./reduce.jl:379 [inlined]",
      "  [3] reduce_empty_iter",
      "    @ ./reduce.jl:378 [inlined]",
      "  [4] foldl_impl",
      "    @ ./reduce.jl:49 [inlined]",
      "  [5] mapfoldl_impl",
      "    @ ./reduce.jl:44 [inlined]",
      "  [6] #mapfoldl#259",
      "    @ ./reduce.jl:170 [inlined]",
      "  [7] mapfoldl",
      "    @ ./reduce.jl:170 [inlined]",
      "  [8] #mapreduce#263",
      "    @ ./reduce.jl:302 [inlined]",
      "  [9] mapreduce",
      "    @ ./reduce.jl:302 [inlined]",
      " [10] #sum#266",
      "    @ ./reduce.jl:528 [inlined]",
      " [11] sum",
      "    @ ./reduce.jl:528 [inlined]",
      " [12] #sum#267",
      "    @ ./reduce.jl:557 [inlined]",
      " [13] sum",
      "    @ ./reduce.jl:557 [inlined]",
      " [14] Cholensky(A::Matrix{Rational{BigInt}})",
      "    @ Main ./In[1]:27",
      " [15] Resolve_Cholesky(A::Matrix{Rational{BigInt}}, b::Vector{BigInt})",
      "    @ Main ./In[1]:138",
      " [16] top-level scope",
      "    @ In[10]:1"
     ]
    }
   ],
   "source": [
    "x_ch = Resolve_Cholesky(A, b)\n",
    "println(\"Erro Cholensky:\", er(x_ch, x_sol))"
   ]
  },
  {
   "cell_type": "code",
   "execution_count": 24,
   "id": "36c0997c-9b31-405a-a646-995274834def",
   "metadata": {},
   "outputs": [
    {
     "name": "stdout",
     "output_type": "stream",
     "text": [
      "Erro LU:2.64253427044434969385090066896429483733126731754956243020553191648514524030271e+73\n"
     ]
    }
   ],
   "source": [
    "x_lu = Resolve_LU(A, b)\n",
    "println(\"Erro LU:\", er(x_lu, x_sol))"
   ]
  },
  {
   "cell_type": "code",
   "execution_count": 25,
   "id": "33001014-b775-4c0f-9f50-5bb98f635908",
   "metadata": {},
   "outputs": [
    {
     "data": {
      "text/plain": [
       "100-element Vector{BigFloat}:\n",
       "   -0.2959173471834881156104779531546000725938938558101654052734375\n",
       " 3280.09713082959040462809052751680383153143338859081268310546875\n",
       "   -8.0879815841224075857313177868868070419239302282221615314483642578125e+06\n",
       "    8.8594965838849238804127299230957437448097380183753557503223419189453125e+09\n",
       "   -5.455999691432109437523952637044238585597999424692261527525261044502258300800697e+12\n",
       "    2.148831896342288885866346922691958300308950891022163887100759893655776977539062e+15\n",
       "   -5.871667022610232621645043704173974433122864223510983805454088724218308925628662e+17\n",
       "    1.17741761832547433786878235946459402264665193831721934358824910304974764585495e+20\n",
       "   -1.805217499165409397290180690343324147210573706674903438074153427805867977440357e+22\n",
       "    2.183468970724369843831831232473454624301433225751923060441520019203665015083971e+24\n",
       "   -2.135415616520462689837600620573537911071943476441433515790411373780344206345468e+26\n",
       "    1.722559435813743931135387357368436034392279080734852294198091197593991630299115e+28\n",
       "   -1.165035253205975198576803289588168724603475775978518615802455578002927091829655e+30\n",
       "    ⋮\n",
       "   -2.94861936479568090616936940925007780997251916508601596736507905071571989397049e+68\n",
       "    7.691231068480987168546085456346236498079520818864432597489487324356097876358032e+67\n",
       "   -1.793014357030202433471204693635360135744165191563281142998681143990414242267609e+67\n",
       "    3.699241092011259418303303174995697631740025903772422268350919635041504531383514e+66\n",
       "   -6.672371614962027897766567783281077707813417941917632933653269709240397130846977e+65\n",
       "    1.035947532540818530875002420950502639444786746007937802272139017420027056476101e+65\n",
       "   -1.356497431980179400293173044043011853350693730418336543375854348771900840708986e+64\n",
       "    1.456719700708645039149631599291602714943397492644700043055019105468663644904154e+63\n",
       "   -1.231869453947795371980822893221978146986217304354205321942341043179513567674803e+62\n",
       "    7.691996800417947583837025349664202394539012247637139674000917128332323888230349e+60\n",
       "   -3.153026679946643989417038064962260951104994323805508592649396725743224788764962e+59\n",
       "    6.364595274724628950837993421536758187006899303778004867169099226502393127302692e+57"
      ]
     },
     "execution_count": 25,
     "metadata": {},
     "output_type": "execute_result"
    }
   ],
   "source": [
    "x_lu .- x_sol"
   ]
  }
 ],
 "metadata": {
  "kernelspec": {
   "display_name": "Julia 1.8.1",
   "language": "julia",
   "name": "julia-1.8"
  },
  "language_info": {
   "file_extension": ".jl",
   "mimetype": "application/julia",
   "name": "julia",
   "version": "1.8.1"
  }
 },
 "nbformat": 4,
 "nbformat_minor": 5
}
